{
 "cells": [
  {
   "cell_type": "markdown",
   "metadata": {},
   "source": [

    "\n",
    "AYTEKİN YILDIZHAN\n",
    "\n",
    "**Task – Recommender Design:**\n",
    "\n",
    "Dataset : Dataset : http://ai.stanford.edu/~amaas/data/sentiment/\n",
    "\n",
    "* 1- Create a dataframe with following schema: \n",
    "    \n",
    "    root \n",
    "        |-- content: string (nullable = true) \n",
    "        |-- label: string (nullable = true) \n",
    "        |-- sentiment: string (nullable = true)\n",
    "            \n",
    "* 2- Design a tokenizer for content column and remove stop words, and give descriptive information about obtained content column\n",
    "____"
   ]
  },
  {
   "cell_type": "markdown",
   "metadata": {},
   "source": [
    "# THIRD QUESTION\n",
    "* 1- Create a dataframe with following schema: \n",
    "    \n",
    "    root \n",
    "        |-- content: string (nullable = true) \n",
    "        |-- label: string (nullable = true) \n",
    "        |-- sentiment: string (nullable = true)\n",
    "_______"
   ]
  },
  {
   "cell_type": "code",
   "execution_count": 2,
   "metadata": {},
   "outputs": [],
   "source": [
    "# HERE IS OUR LIBRARIES THAT WE USE"
   ]
  },
  {
   "cell_type": "code",
   "execution_count": 4,
   "metadata": {},
   "outputs": [],
   "source": [
    "import sys\n",
    "import os\n",
    "import pandas as pd\n",
    "import sqlalchemy\n",
    "import numpy as np\n",
    "import pyprind\n",
    "\n",
    "from keras.models import Sequential\n",
    "from tensorflow.keras import layers\n",
    "from tensorflow.keras.models import Sequential\n",
    "from keras.layers import Dense, Embedding, LSTM, GRU, Flatten, Dropout, Lambda\n",
    "from keras.layers.embeddings import Embedding\n",
    "import tensorflow as tf\n",
    "from tensorflow.keras import losses\n",
    "\n",
    "from tensorflow.keras.layers.experimental.preprocessing import TextVectorization\n",
    "from tensorflow.keras.preprocessing.text import text_to_word_sequence\n",
    "\n",
    "from keras.utils import tf_inspect\n",
    "from keras.utils.generic_utils import Progbar\n",
    "from keras.utils import io_utils\n",
    "\n",
    "import matplotlib.pyplot as plt\n",
    "%matplotlib inline\n",
    "\n",
    "import warnings\n",
    "warnings.filterwarnings('ignore')\n",
    "\n",
    "import shutil\n",
    "import re\n",
    "import string\n",
    "\n",
    "from pyspark.sql import SparkSession"
   ]
  },
  {
   "cell_type": "code",
   "execution_count": 5,
   "metadata": {},
   "outputs": [],
   "source": [
    "url = \"https://ai.stanford.edu/~amaas/data/sentiment/aclImdb_v1.tar.gz\"\n",
    "\n",
    "\n",
    "dataset = tf.keras.utils.get_file(\n",
    "                'aclImdb_v1', \n",
    "                 url,\n",
    "                 untar=True, \n",
    "                 cache_dir='.',\n",
    "                 cache_subdir='')\n",
    "\n",
    "#We download this dataset and unzip with keras."
   ]
  },
  {
   "cell_type": "code",
   "execution_count": 6,
   "metadata": {},
   "outputs": [
    {
     "data": {
      "text/plain": [
       "'.\\\\aclImdb_v1'"
      ]
     },
     "execution_count": 6,
     "metadata": {},
     "output_type": "execute_result"
    }
   ],
   "source": [
    "dataset #file name ana path"
   ]
  },
  {
   "cell_type": "code",
   "execution_count": 7,
   "metadata": {},
   "outputs": [
    {
     "data": {
      "text/plain": [
       "'.\\\\aclImdb'"
      ]
     },
     "execution_count": 7,
     "metadata": {},
     "output_type": "execute_result"
    }
   ],
   "source": [
    "dataset_dir = os.path.join(os.path.dirname(dataset), 'aclImdb')\n",
    "dataset_dir #file name and add os.path."
   ]
  },
  {
   "cell_type": "code",
   "execution_count": 8,
   "metadata": {},
   "outputs": [
    {
     "data": {
      "text/plain": [
       "['labeledBow.feat',\n",
       " 'neg',\n",
       " 'pos',\n",
       " 'unsup',\n",
       " 'unsupBow.feat',\n",
       " 'urls_neg.txt',\n",
       " 'urls_pos.txt',\n",
       " 'urls_unsup.txt']"
      ]
     },
     "execution_count": 8,
     "metadata": {},
     "output_type": "execute_result"
    }
   ],
   "source": [
    "train_dir = os.path.join(dataset_dir, 'train') #adding train files to path\n",
    "os.listdir(train_dir) #content of train file"
   ]
  },
  {
   "cell_type": "code",
   "execution_count": 9,
   "metadata": {},
   "outputs": [
    {
     "data": {
      "text/plain": [
       "['labeledBow.feat', 'neg', 'pos', 'urls_neg.txt', 'urls_pos.txt']"
      ]
     },
     "execution_count": 9,
     "metadata": {},
     "output_type": "execute_result"
    }
   ],
   "source": [
    "test_dir = os.path.join(dataset_dir, 'test') #adding test files to path\n",
    "os.listdir(test_dir) #content of test file"
   ]
  },
  {
   "cell_type": "code",
   "execution_count": 13,
   "metadata": {},
   "outputs": [
    {
     "name": "stderr",
     "output_type": "stream",
     "text": [
      "0% [##############################] 100% | ETA: 00:00:00\n",
      "Total time elapsed: 00:01:21\n"
     ]
    }
   ],
   "source": [
    "#We change txt files to csb format and save it.\n",
    "\n",
    "#(in test file \"neg.txt and pos.txt\" and in train file \"neg.txt and pos.txt\") to csv file and we save it.\n",
    "\n",
    "basepath = 'aclImdb'\n",
    "\n",
    "labels = {'pos': 1, 'neg': 0}\n",
    "pbar = pyprind.ProgBar(50000)\n",
    "df = pd.DataFrame()\n",
    "\n",
    "for s in ('test', 'train'):\n",
    "    for l in ('pos', 'neg'):\n",
    "        path = os.path.join(basepath, s, l)\n",
    "        for file in os.listdir(path):\n",
    "            with open(os.path.join(path, file), 'r', encoding='utf-8') as infile:\n",
    "                txt = infile.read()\n",
    "            df = df.append([[txt, labels[l]]], ignore_index=True)\n",
    "            pbar.update()\n",
    "\n",
    "df.columns = ['content', 'label']\n",
    "\n",
    "np.random.seed(0)\n",
    "\n",
    "#df = df.reindex(np.random.permutation(df.index))\n",
    "df.to_csv('aclImdb_question3.csv', index=False, encoding='utf-8')"
   ]
  },
  {
   "cell_type": "code",
   "execution_count": 11,
   "metadata": {},
   "outputs": [],
   "source": [
    "data_csv = pd.read_csv('aclImdb_question3.csv')"
   ]
  },
  {
   "cell_type": "code",
   "execution_count": 12,
   "metadata": {},
   "outputs": [
    {
     "name": "stdout",
     "output_type": "stream",
     "text": [
      "<class 'pandas.core.frame.DataFrame'>\n",
      "RangeIndex: 50000 entries, 0 to 49999\n",
      "Data columns (total 2 columns):\n",
      " #   Column   Non-Null Count  Dtype \n",
      "---  ------   --------------  ----- \n",
      " 0   content  50000 non-null  object\n",
      " 1   label    50000 non-null  int64 \n",
      "dtypes: int64(1), object(1)\n",
      "memory usage: 781.4+ KB\n"
     ]
    }
   ],
   "source": [
    "data_csv.info()"
   ]
  },
  {
   "cell_type": "code",
   "execution_count": 13,
   "metadata": {},
   "outputs": [
    {
     "data": {
      "text/html": [
       "<div>\n",
       "<style scoped>\n",
       "    .dataframe tbody tr th:only-of-type {\n",
       "        vertical-align: middle;\n",
       "    }\n",
       "\n",
       "    .dataframe tbody tr th {\n",
       "        vertical-align: top;\n",
       "    }\n",
       "\n",
       "    .dataframe thead th {\n",
       "        text-align: right;\n",
       "    }\n",
       "</style>\n",
       "<table border=\"1\" class=\"dataframe\">\n",
       "  <thead>\n",
       "    <tr style=\"text-align: right;\">\n",
       "      <th></th>\n",
       "      <th>content</th>\n",
       "      <th>label</th>\n",
       "    </tr>\n",
       "  </thead>\n",
       "  <tbody>\n",
       "    <tr>\n",
       "      <th>0</th>\n",
       "      <td>In 1974, the teenager Martha Moxley (Maggie Gr...</td>\n",
       "      <td>1</td>\n",
       "    </tr>\n",
       "    <tr>\n",
       "      <th>1</th>\n",
       "      <td>OK... so... I really like Kris Kristofferson a...</td>\n",
       "      <td>0</td>\n",
       "    </tr>\n",
       "    <tr>\n",
       "      <th>2</th>\n",
       "      <td>***SPOILER*** Do not read this, if you think a...</td>\n",
       "      <td>0</td>\n",
       "    </tr>\n",
       "    <tr>\n",
       "      <th>3</th>\n",
       "      <td>hi for all the people who have seen this wonde...</td>\n",
       "      <td>1</td>\n",
       "    </tr>\n",
       "    <tr>\n",
       "      <th>4</th>\n",
       "      <td>I recently bought the DVD, forgetting just how...</td>\n",
       "      <td>0</td>\n",
       "    </tr>\n",
       "    <tr>\n",
       "      <th>...</th>\n",
       "      <td>...</td>\n",
       "      <td>...</td>\n",
       "    </tr>\n",
       "    <tr>\n",
       "      <th>49995</th>\n",
       "      <td>OK, lets start with the best. the building. al...</td>\n",
       "      <td>0</td>\n",
       "    </tr>\n",
       "    <tr>\n",
       "      <th>49996</th>\n",
       "      <td>The British 'heritage film' industry is out of...</td>\n",
       "      <td>0</td>\n",
       "    </tr>\n",
       "    <tr>\n",
       "      <th>49997</th>\n",
       "      <td>I don't even know where to begin on this one. ...</td>\n",
       "      <td>0</td>\n",
       "    </tr>\n",
       "    <tr>\n",
       "      <th>49998</th>\n",
       "      <td>Richard Tyler is a little boy who is scared of...</td>\n",
       "      <td>0</td>\n",
       "    </tr>\n",
       "    <tr>\n",
       "      <th>49999</th>\n",
       "      <td>I waited long to watch this movie. Also becaus...</td>\n",
       "      <td>1</td>\n",
       "    </tr>\n",
       "  </tbody>\n",
       "</table>\n",
       "<p>50000 rows × 2 columns</p>\n",
       "</div>"
      ],
      "text/plain": [
       "                                                 content  label\n",
       "0      In 1974, the teenager Martha Moxley (Maggie Gr...      1\n",
       "1      OK... so... I really like Kris Kristofferson a...      0\n",
       "2      ***SPOILER*** Do not read this, if you think a...      0\n",
       "3      hi for all the people who have seen this wonde...      1\n",
       "4      I recently bought the DVD, forgetting just how...      0\n",
       "...                                                  ...    ...\n",
       "49995  OK, lets start with the best. the building. al...      0\n",
       "49996  The British 'heritage film' industry is out of...      0\n",
       "49997  I don't even know where to begin on this one. ...      0\n",
       "49998  Richard Tyler is a little boy who is scared of...      0\n",
       "49999  I waited long to watch this movie. Also becaus...      1\n",
       "\n",
       "[50000 rows x 2 columns]"
      ]
     },
     "execution_count": 13,
     "metadata": {},
     "output_type": "execute_result"
    }
   ],
   "source": [
    "data_csv # content and its label (pos or neg) 25000 train files and 25000 test files. We have 50000 records "
   ]
  },
  {
   "cell_type": "code",
   "execution_count": 14,
   "metadata": {},
   "outputs": [],
   "source": [
    "remove_dir = os.path.join(train_dir,'unsup') #unsupervised file (unsup) are removed since we do not use.\n",
    "shutil.rmtree(remove_dir)"
   ]
  },
  {
   "cell_type": "code",
   "execution_count": null,
   "metadata": {},
   "outputs": [],
   "source": [
    "# Now, we select train set and validation set"
   ]
  },
  {
   "cell_type": "code",
   "execution_count": 15,
   "metadata": {},
   "outputs": [
    {
     "name": "stdout",
     "output_type": "stream",
     "text": [
      "Found 25000 files belonging to 2 classes.\n",
      "Using 20000 files for training.\n"
     ]
    }
   ],
   "source": [
    "batch_size = 32\n",
    "seed = 42\n",
    "raw_train_ds = tf.keras.preprocessing.text_dataset_from_directory(\n",
    "    'aclImdb/train', \n",
    "    batch_size=batch_size, \n",
    "    validation_split=0.2, \n",
    "    subset='training', \n",
    "    seed=seed) #train set    #In order not to mix the training and validation sets we use random seed"
   ]
  },
  {
   "cell_type": "code",
   "execution_count": 16,
   "metadata": {},
   "outputs": [
    {
     "data": {
      "text/plain": [
       "['neg', 'pos']"
      ]
     },
     "execution_count": 16,
     "metadata": {},
     "output_type": "execute_result"
    }
   ],
   "source": [
    "raw_train_ds.class_names #our class"
   ]
  },
  {
   "cell_type": "code",
   "execution_count": 17,
   "metadata": {},
   "outputs": [
    {
     "name": "stdout",
     "output_type": "stream",
     "text": [
      "Found 25000 files belonging to 2 classes.\n",
      "Using 5000 files for validation.\n"
     ]
    }
   ],
   "source": [
    "raw_val_ds = tf.keras.preprocessing.text_dataset_from_directory(\n",
    "    'aclImdb/train', \n",
    "     batch_size=batch_size, \n",
    "     validation_split=0.2, \n",
    "     subset='validation', \n",
    "     seed=seed)  #validation set    #In order not to mix the training and validation sets we use random seed"
   ]
  },
  {
   "cell_type": "code",
   "execution_count": 18,
   "metadata": {},
   "outputs": [
    {
     "name": "stdout",
     "output_type": "stream",
     "text": [
      "Found 25000 files belonging to 2 classes.\n"
     ]
    }
   ],
   "source": [
    "raw_test_ds = tf.keras.preprocessing.text_dataset_from_directory(\n",
    "    'aclImdb/test',  #test set\n",
    "     batch_size=batch_size)"
   ]
  },
  {
   "cell_type": "code",
   "execution_count": 19,
   "metadata": {},
   "outputs": [],
   "source": [
    "# this function aims to cancells out the HTML tags and punctiton\n",
    "def custom_standardization(input_data):\n",
    "    # all letters are small\n",
    "    lowercase = tf.strings.lower(input_data)\n",
    "    # cancel out HTML tags\n",
    "    stripped_html = tf.strings.regex_replace(lowercase,'<br />',' ')\n",
    "    # cancel out HTML tags and punctuation \n",
    "    return tf.strings.regex_replace(stripped_html,'[%s]' % \n",
    "                re.escape(string.punctuation), '')"
   ]
  },
  {
   "cell_type": "code",
   "execution_count": 20,
   "metadata": {},
   "outputs": [],
   "source": [
    "# Now we can create the TextVectorization layer which is used for standardizing, tokenizing and vectorizing data.\n",
    "\n",
    "max_features = 10000\n",
    "sequence_length = 250\n",
    "vectorize_layer = TextVectorization(\n",
    "    standardize=custom_standardization,\n",
    "    max_tokens=max_features,\n",
    "    output_mode='int',\n",
    "    output_sequence_length=sequence_length)"
   ]
  },
  {
   "cell_type": "code",
   "execution_count": 21,
   "metadata": {},
   "outputs": [],
   "source": [
    "train_text = raw_train_ds.map(lambda x, y: x) #text-only dataset."
   ]
  },
  {
   "cell_type": "code",
   "execution_count": 22,
   "metadata": {},
   "outputs": [],
   "source": [
    "vectorize_layer.adapt(train_text) #data preprocessing"
   ]
  },
  {
   "cell_type": "code",
   "execution_count": 32,
   "metadata": {},
   "outputs": [],
   "source": [
    "# JUST EXAMPLE TO SEE"
   ]
  },
  {
   "cell_type": "code",
   "execution_count": 23,
   "metadata": {},
   "outputs": [],
   "source": [
    "def vectorize_text(text, label):\n",
    "    text = tf.expand_dims(text, -1)\n",
    "    return vectorize_layer(text), label"
   ]
  },
  {
   "cell_type": "code",
   "execution_count": 24,
   "metadata": {},
   "outputs": [],
   "source": [
    "text_batch, label_batch = next(iter(raw_train_ds))"
   ]
  },
  {
   "cell_type": "code",
   "execution_count": 25,
   "metadata": {},
   "outputs": [
    {
     "data": {
      "text/plain": [
       "<tf.Tensor: shape=(), dtype=string, numpy=b'I thought this movie was terrible. I\\'m Chinese, so I thought everything was totally wrong. Many of the facts were incorrect. The only thing right about Chinese history in the movie was when Wendy\\'s mother explained to her husband about the statues that guarded ShiHuangDi. I also thought the fight scenes were very cheesy and fake. Many of the actors and actresses were not very great. Some of the jokes that were supposedly \"funny\" were really stupid. I think this movie should receive the worst possible rating it could get. Disney has really got to get more information about Chinese history if they want to create an extravagant movie. Mulan was quite accurate. Watch this movie if you want to waste some time.'>"
      ]
     },
     "execution_count": 25,
     "metadata": {},
     "output_type": "execute_result"
    }
   ],
   "source": [
    "text_batch[31]"
   ]
  },
  {
   "cell_type": "code",
   "execution_count": 26,
   "metadata": {},
   "outputs": [
    {
     "name": "stdout",
     "output_type": "stream",
     "text": [
      "Review tf.Tensor(b'Silent Night, Deadly Night 5 is the very last of the series, and like part 4, it\\'s unrelated to the first three except by title and the fact that it\\'s a Christmas-themed horror flick.<br /><br />Except to the oblivious, there\\'s some obvious things going on here...Mickey Rooney plays a toymaker named Joe Petto and his creepy son\\'s name is Pino. Ring a bell, anyone? Now, a little boy named Derek heard a knock at the door one evening, and opened it to find a present on the doorstep for him. Even though it said \"don\\'t open till Christmas\", he begins to open it anyway but is stopped by his dad, who scolds him and sends him to bed, and opens the gift himself. Inside is a little red ball that sprouts Santa arms and a head, and proceeds to kill dad. Oops, maybe he should have left well-enough alone. Of course Derek is then traumatized by the incident since he watched it from the stairs, but he doesn\\'t grow up to be some killer Santa, he just stops talking.<br /><br />There\\'s a mysterious stranger lurking around, who seems very interested in the toys that Joe Petto makes. We even see him buying a bunch when Derek\\'s mom takes him to the store to find a gift for him to bring him out of his trauma. And what exactly is this guy doing? Well, we\\'re not sure but he does seem to be taking these toys apart to see what makes them tick. He does keep his landlord from evicting him by promising him to pay him in cash the next day and presents him with a \"Larry the Larvae\" toy for his kid, but of course \"Larry\" is not a good toy and gets out of the box in the car and of course, well, things aren\\'t pretty.<br /><br />Anyway, eventually what\\'s going on with Joe Petto and Pino is of course revealed, and as with the old story, Pino is not a \"real boy\". Pino is probably even more agitated and naughty because he suffers from \"Kenitalia\" (a smooth plastic crotch) so that could account for his evil ways. And the identity of the lurking stranger is revealed too, and there\\'s even kind of a happy ending of sorts. Whee.<br /><br />A step up from part 4, but not much of one. Again, Brian Yuzna is involved, and Screaming Mad George, so some decent special effects, but not enough to make this great. A few leftovers from part 4 are hanging around too, like Clint Howard and Neith Hunter, but that doesn\\'t really make any difference. Anyway, I now have seeing the whole series out of my system. Now if I could get some of it out of my brain. 4 out of 5.', shape=(), dtype=string)\n",
      "Label neg\n",
      "Vectorized review (<tf.Tensor: shape=(1, 250), dtype=int64, numpy=\n",
      "array([[1286,  312, 2380,  312,  661,    7,    2,   52,  229,    5,    2,\n",
      "         200,    3,   38,  170,  668,   29, 5488,    6,    2,   83,  297,\n",
      "         547,   32,  410,    3,    2,  186,   12,   29,    4,    1,  192,\n",
      "         511,  547,    6,    2, 8225,  213,   46,  574,  175,  168,   20,\n",
      "           1, 5360,  290,    4,    1,  764,  970,    1,    3,   24,  937,\n",
      "        2271,  393,    7,    1, 1672,    4, 3744,  250,  148,    4,  112,\n",
      "         437,  764, 3525,  546,    4, 3627,   31,    2, 1329,   28, 2094,\n",
      "           3, 2926,    9,    6,  163,    4, 1006,   20,    2,    1,   15,\n",
      "          86,   53,  147,    9,  292,   89,  959, 2312,  982,   27,  761,\n",
      "           6,  959,    9,  564,   18,    7, 2139,   32,   24, 1253,   36,\n",
      "           1,   86,    3, 3295,   86,    6, 1408,    3, 1933,    2, 3405,\n",
      "         301,  965,    7,    4,  112,  740, 1976,   12,    1, 2012, 2767,\n",
      "           3,    4,  427,    3, 5173,    6,  512, 1253,    1,  278,   27,\n",
      "         139,   25,  307,    1,  579,    5,  259, 3525,    7,   92, 8974,\n",
      "          32,    2, 3838,  230,   27,  289,    9,   35,    2, 5707,   18,\n",
      "          27,  144, 2165,   56,    6,   26,   46,  466, 2012,   27,   40,\n",
      "        2743,  658,  213,    4, 1377, 3017, 7073,  183,   36,  180,   52,\n",
      "         918,    8,    2, 4024,   12,  970,    1,  158,   71,   53,   67,\n",
      "          86, 2752,    4,  734,   51,    1, 1609,  294,   86,    6,    2,\n",
      "        1164,    6,  163,    4, 3405,   15,   86,    6,  717,   86,   44,\n",
      "           5,   24, 7153,    3,   48,  604,    7,   11,  225,  383,   73,\n",
      "          65,   21,  242,   18,   27,  120,  293,    6,   26,  665,  129,\n",
      "        4024,  949,    6,   67,   48,  158,   93,    1]], dtype=int64)>, <tf.Tensor: shape=(), dtype=int32, numpy=0>)\n"
     ]
    }
   ],
   "source": [
    "# to see which token is to which number\n",
    "\n",
    "first_review, first_label = text_batch[0], label_batch[0]\n",
    "print(\"Review\", first_review)\n",
    "print(\"Label\", raw_train_ds.class_names[first_label])\n",
    "print(\"Vectorized review\", vectorize_text(first_review,first_label))"
   ]
  },
  {
   "cell_type": "code",
   "execution_count": 27,
   "metadata": {},
   "outputs": [
    {
     "name": "stdout",
     "output_type": "stream",
     "text": [
      "128 — ->  here\n",
      "1312 — ->  climax\n",
      "Vocabulary size: 10000\n"
     ]
    }
   ],
   "source": [
    "print(\"128 — -> \",vectorize_layer.get_vocabulary()[128])\n",
    "print(\"1312 — -> \",vectorize_layer.get_vocabulary()[1312])\n",
    "print(\"Vocabulary size: {}\".format(len(vectorize_layer.get_vocabulary())))"
   ]
  },
  {
   "cell_type": "code",
   "execution_count": 28,
   "metadata": {},
   "outputs": [],
   "source": [
    "# we vectorize all sets\n",
    "\n",
    "train_ds = raw_train_ds.map(vectorize_text)\n",
    "val_ds = raw_val_ds.map(vectorize_text)\n",
    "test_ds = raw_test_ds.map(vectorize_text)"
   ]
  },
  {
   "cell_type": "code",
   "execution_count": 29,
   "metadata": {},
   "outputs": [],
   "source": [
    "#just acceleration and make sure to be equal to the number of batches\n",
    "\n",
    "AUTOTUNE = tf.data.AUTOTUNE\n",
    "train_ds = train_ds.cache().prefetch(buffer_size=AUTOTUNE)\n",
    "val_ds = val_ds.cache().prefetch(buffer_size=AUTOTUNE)\n",
    "test_ds = test_ds.cache().prefetch(buffer_size=AUTOTUNE)"
   ]
  },
  {
   "cell_type": "code",
   "execution_count": 30,
   "metadata": {},
   "outputs": [],
   "source": [
    "embedding_dim = 16 #neural network dimension."
   ]
  },
  {
   "cell_type": "code",
   "execution_count": 31,
   "metadata": {},
   "outputs": [],
   "source": [
    "model = tf.keras.Sequential([\n",
    "    layers.Embedding(max_features + 1, embedding_dim),\n",
    "    layers.Dropout(0.2),\n",
    "    layers.GlobalAveragePooling1D(),\n",
    "    layers.Dropout(0.2),\n",
    "    layers.Dense(1)])"
   ]
  },
  {
   "cell_type": "code",
   "execution_count": 32,
   "metadata": {},
   "outputs": [
    {
     "name": "stdout",
     "output_type": "stream",
     "text": [
      "Model: \"sequential\"\n",
      "_________________________________________________________________\n",
      " Layer (type)                Output Shape              Param #   \n",
      "=================================================================\n",
      " embedding (Embedding)       (None, None, 16)          160016    \n",
      "                                                                 \n",
      " dropout (Dropout)           (None, None, 16)          0         \n",
      "                                                                 \n",
      " global_average_pooling1d (G  (None, 16)               0         \n",
      " lobalAveragePooling1D)                                          \n",
      "                                                                 \n",
      " dropout_1 (Dropout)         (None, 16)                0         \n",
      "                                                                 \n",
      " dense (Dense)               (None, 1)                 17        \n",
      "                                                                 \n",
      "=================================================================\n",
      "Total params: 160,033\n",
      "Trainable params: 160,033\n",
      "Non-trainable params: 0\n",
      "_________________________________________________________________\n"
     ]
    }
   ],
   "source": [
    "model.summary() #Our model"
   ]
  },
  {
   "cell_type": "code",
   "execution_count": 33,
   "metadata": {},
   "outputs": [],
   "source": [
    "# our dataset class is binary (pos,neg) so we use losses.BinaryCrossentropy metric\n",
    "model.compile(loss=losses.BinaryCrossentropy(from_logits=True),\n",
    "              optimizer='adam', \n",
    "              metrics=tf.metrics.BinaryAccuracy(threshold=0.0))"
   ]
  },
  {
   "cell_type": "code",
   "execution_count": 34,
   "metadata": {},
   "outputs": [
    {
     "name": "stdout",
     "output_type": "stream",
     "text": [
      "Epoch 1/10\n",
      "625/625 [==============================] - 27s 11ms/step - loss: 0.6633 - binary_accuracy: 0.6925 - val_loss: 0.6137 - val_binary_accuracy: 0.7726\n",
      "Epoch 2/10\n",
      "625/625 [==============================] - 4s 7ms/step - loss: 0.5484 - binary_accuracy: 0.8026 - val_loss: 0.4980 - val_binary_accuracy: 0.8222\n",
      "Epoch 3/10\n",
      "625/625 [==============================] - 4s 6ms/step - loss: 0.4447 - binary_accuracy: 0.8458 - val_loss: 0.4202 - val_binary_accuracy: 0.8474\n",
      "Epoch 4/10\n",
      "625/625 [==============================] - 4s 6ms/step - loss: 0.3798 - binary_accuracy: 0.8657 - val_loss: 0.3742 - val_binary_accuracy: 0.8614\n",
      "Epoch 5/10\n",
      "625/625 [==============================] - 4s 6ms/step - loss: 0.3361 - binary_accuracy: 0.8779 - val_loss: 0.3455 - val_binary_accuracy: 0.8676\n",
      "Epoch 6/10\n",
      "625/625 [==============================] - 4s 6ms/step - loss: 0.3053 - binary_accuracy: 0.8878 - val_loss: 0.3260 - val_binary_accuracy: 0.8712\n",
      "Epoch 7/10\n",
      "625/625 [==============================] - 4s 6ms/step - loss: 0.2815 - binary_accuracy: 0.8977 - val_loss: 0.3128 - val_binary_accuracy: 0.8738\n",
      "Epoch 8/10\n",
      "625/625 [==============================] - 4s 6ms/step - loss: 0.2618 - binary_accuracy: 0.9047 - val_loss: 0.3033 - val_binary_accuracy: 0.8764\n",
      "Epoch 9/10\n",
      "625/625 [==============================] - 4s 6ms/step - loss: 0.2460 - binary_accuracy: 0.9110 - val_loss: 0.2967 - val_binary_accuracy: 0.8772\n",
      "Epoch 10/10\n",
      "625/625 [==============================] - 4s 6ms/step - loss: 0.2315 - binary_accuracy: 0.9169 - val_loss: 0.2919 - val_binary_accuracy: 0.8790\n"
     ]
    }
   ],
   "source": [
    "epochs = 10\n",
    "history = model.fit(train_ds, validation_data=val_ds, epochs=epochs) #our hyperpatameter"
   ]
  },
  {
   "cell_type": "code",
   "execution_count": 35,
   "metadata": {},
   "outputs": [
    {
     "name": "stdout",
     "output_type": "stream",
     "text": [
      "782/782 [==============================] - 6s 8ms/step - loss: 0.3102 - binary_accuracy: 0.8734\n",
      "Loss:  0.31021150946617126\n",
      "Accuracy:  0.8733999729156494\n"
     ]
    }
   ],
   "source": [
    "loss, accuracy = model.evaluate(test_ds) #accuracy and losses\n",
    "print(\"Loss: \", loss)\n",
    "print(\"Accuracy: \", accuracy)"
   ]
  },
  {
   "cell_type": "code",
   "execution_count": 96,
   "metadata": {},
   "outputs": [
    {
     "data": {
      "text/plain": [
       "dict_keys(['loss', 'binary_accuracy', 'val_loss', 'val_binary_accuracy'])"
      ]
     },
     "execution_count": 96,
     "metadata": {},
     "output_type": "execute_result"
    }
   ],
   "source": [
    "history_dict = history.history\n",
    "history_dict.keys()\n"
   ]
  },
  {
   "cell_type": "code",
   "execution_count": 98,
   "metadata": {},
   "outputs": [],
   "source": [
    "acc = history_dict['binary_accuracy']\n",
    "val_acc = history_dict['val_binary_accuracy']\n",
    "loss = history_dict['loss']\n",
    "val_loss = history_dict['val_loss']"
   ]
  },
  {
   "cell_type": "code",
   "execution_count": 106,
   "metadata": {},
   "outputs": [
    {
     "data": {
      "text/plain": [
       "[0.6632590889930725,\n",
       " 0.5483827590942383,\n",
       " 0.4447096288204193,\n",
       " 0.37984350323677063,\n",
       " 0.33612486720085144,\n",
       " 0.30528974533081055,\n",
       " 0.2815370261669159,\n",
       " 0.26180514693260193,\n",
       " 0.24604247510433197,\n",
       " 0.23145979642868042]"
      ]
     },
     "execution_count": 106,
     "metadata": {},
     "output_type": "execute_result"
    }
   ],
   "source": [
    "loss"
   ]
  },
  {
   "cell_type": "code",
   "execution_count": 105,
   "metadata": {},
   "outputs": [
    {
     "data": {
      "text/plain": [
       "range(1, 11)"
      ]
     },
     "execution_count": 105,
     "metadata": {},
     "output_type": "execute_result"
    }
   ],
   "source": [
    "epochs = range(1, len(acc) + 1)\n",
    "epochs"
   ]
  },
  {
   "cell_type": "markdown",
   "metadata": {},
   "source": [
    "# PLOT THE RESULTS"
   ]
  },
  {
   "cell_type": "code",
   "execution_count": 38,
   "metadata": {},
   "outputs": [
    {
     "data": {
      "image/png": "[encoded data removed]",
      "text/plain": [
       "<Figure size 432x288 with 1 Axes>"
      ]
     },
     "metadata": {
      "needs_background": "light"
     },
     "output_type": "display_data"
    }
   ],
   "source": [
    "epochs = range(1, len(acc) + 1)\n",
    "\n",
    "plt.plot(epochs, loss, 'b', label='Training loss')\n",
    "\n",
    "plt.plot(epochs, val_loss, 'r', label='Validation loss')\n",
    "plt.title('Training and validation loss')\n",
    "plt.xlabel('Epochs')\n",
    "plt.ylabel('Loss')\n",
    "plt.legend()\n",
    "plt.show()"
   ]
  },
  {
   "cell_type": "code",
   "execution_count": 39,
   "metadata": {},
   "outputs": [
    {
     "data": {
      "image/png": "[encoded data removed]",
      "text/plain": [
       "<Figure size 432x288 with 1 Axes>"
      ]
     },
     "metadata": {
      "needs_background": "light"
     },
     "output_type": "display_data"
    }
   ],
   "source": [
    "plt.plot(epochs, acc, 'b', label='Training acc')\n",
    "plt.plot(epochs, val_acc, 'r', label='Validation acc')\n",
    "plt.title('Training and validation accuracy')\n",
    "plt.xlabel('Epochs')\n",
    "plt.ylabel('Accuracy')\n",
    "plt.legend(loc='lower right')\n",
    "\n",
    "plt.show()"
   ]
  },
  {
   "cell_type": "code",
   "execution_count": 40,
   "metadata": {},
   "outputs": [],
   "source": [
    "#In this model, we add vectorize_layer to the model.\n",
    "\n",
    "export_model = tf.keras.Sequential([\n",
    "    vectorize_layer,\n",
    "    model,\n",
    "    layers.Activation('sigmoid')\n",
    "])"
   ]
  },
  {
   "cell_type": "code",
   "execution_count": 41,
   "metadata": {},
   "outputs": [],
   "source": [
    "export_model.compile(\n",
    "   loss=losses.BinaryCrossentropy(from_logits=False),     \n",
    "      optimizer=\"adam\", metrics=['accuracy'])"
   ]
  },
  {
   "cell_type": "code",
   "execution_count": 42,
   "metadata": {},
   "outputs": [
    {
     "name": "stdout",
     "output_type": "stream",
     "text": [
      "782/782 [==============================] - 8s 10ms/step - loss: 0.3102 - accuracy: 0.8734\n",
      "0.8733999729156494\n"
     ]
    }
   ],
   "source": [
    "loss, accuracy = export_model.evaluate(raw_test_ds)\n",
    "print(accuracy)\n"
   ]
  },
  {
   "cell_type": "markdown",
   "metadata": {},
   "source": [
    "# HERE IS THE FIRST RESULT OF THE TASK"
   ]
  },
  {
   "cell_type": "code",
   "execution_count": 43,
   "metadata": {},
   "outputs": [],
   "source": [
    "sentiment = export_model.predict(data_csv ['content'])"
   ]
  },
  {
   "cell_type": "code",
   "execution_count": 44,
   "metadata": {},
   "outputs": [],
   "source": [
    "data_csv['sentiment'] = sentiment[:,0]"
   ]
  },
  {
   "cell_type": "code",
   "execution_count": 45,
   "metadata": {},
   "outputs": [
    {
     "data": {
      "text/html": [
       "<div>\n",
       "<style scoped>\n",
       "    .dataframe tbody tr th:only-of-type {\n",
       "        vertical-align: middle;\n",
       "    }\n",
       "\n",
       "    .dataframe tbody tr th {\n",
       "        vertical-align: top;\n",
       "    }\n",
       "\n",
       "    .dataframe thead th {\n",
       "        text-align: right;\n",
       "    }\n",
       "</style>\n",
       "<table border=\"1\" class=\"dataframe\">\n",
       "  <thead>\n",
       "    <tr style=\"text-align: right;\">\n",
       "      <th></th>\n",
       "      <th>content</th>\n",
       "      <th>label</th>\n",
       "      <th>sentiment</th>\n",
       "    </tr>\n",
       "  </thead>\n",
       "  <tbody>\n",
       "    <tr>\n",
       "      <th>0</th>\n",
       "      <td>In 1974, the teenager Martha Moxley (Maggie Gr...</td>\n",
       "      <td>1</td>\n",
       "      <td>0.585095</td>\n",
       "    </tr>\n",
       "    <tr>\n",
       "      <th>1</th>\n",
       "      <td>OK... so... I really like Kris Kristofferson a...</td>\n",
       "      <td>0</td>\n",
       "      <td>0.000217</td>\n",
       "    </tr>\n",
       "    <tr>\n",
       "      <th>2</th>\n",
       "      <td>***SPOILER*** Do not read this, if you think a...</td>\n",
       "      <td>0</td>\n",
       "      <td>0.004268</td>\n",
       "    </tr>\n",
       "    <tr>\n",
       "      <th>3</th>\n",
       "      <td>hi for all the people who have seen this wonde...</td>\n",
       "      <td>1</td>\n",
       "      <td>0.929629</td>\n",
       "    </tr>\n",
       "    <tr>\n",
       "      <th>4</th>\n",
       "      <td>I recently bought the DVD, forgetting just how...</td>\n",
       "      <td>0</td>\n",
       "      <td>0.559753</td>\n",
       "    </tr>\n",
       "  </tbody>\n",
       "</table>\n",
       "</div>"
      ],
      "text/plain": [
       "                                             content  label  sentiment\n",
       "0  In 1974, the teenager Martha Moxley (Maggie Gr...      1   0.585095\n",
       "1  OK... so... I really like Kris Kristofferson a...      0   0.000217\n",
       "2  ***SPOILER*** Do not read this, if you think a...      0   0.004268\n",
       "3  hi for all the people who have seen this wonde...      1   0.929629\n",
       "4  I recently bought the DVD, forgetting just how...      0   0.559753"
      ]
     },
     "execution_count": 45,
     "metadata": {},
     "output_type": "execute_result"
    }
   ],
   "source": [
    "data_csv.head()"
   ]
  },
  {
   "cell_type": "code",
   "execution_count": 46,
   "metadata": {},
   "outputs": [
    {
     "name": "stdout",
     "output_type": "stream",
     "text": [
      "<class 'pandas.core.frame.DataFrame'>\n",
      "RangeIndex: 50000 entries, 0 to 49999\n",
      "Data columns (total 3 columns):\n",
      " #   Column     Non-Null Count  Dtype  \n",
      "---  ------     --------------  -----  \n",
      " 0   content    50000 non-null  object \n",
      " 1   label      50000 non-null  int64  \n",
      " 2   sentiment  50000 non-null  float32\n",
      "dtypes: float32(1), int64(1), object(1)\n",
      "memory usage: 976.7+ KB\n"
     ]
    }
   ],
   "source": [
    "data_csv.info()"
   ]
  },
  {
   "cell_type": "code",
   "execution_count": 47,
   "metadata": {},
   "outputs": [],
   "source": [
    "data_csv_original = data_csv"
   ]
  },
  {
   "cell_type": "code",
   "execution_count": 48,
   "metadata": {},
   "outputs": [],
   "source": [
    "data_csv['content'] = data_csv['content'].astype(\"string\")\n",
    "data_csv['label'] = data_csv['label'].astype(\"string\")\n",
    "data_csv['sentiment'] = data_csv['sentiment'].astype(\"string\") #just converting the values"
   ]
  },
  {
   "cell_type": "code",
   "execution_count": 49,
   "metadata": {},
   "outputs": [
    {
     "name": "stdout",
     "output_type": "stream",
     "text": [
      "<class 'pandas.core.frame.DataFrame'>\n",
      "RangeIndex: 50000 entries, 0 to 49999\n",
      "Data columns (total 3 columns):\n",
      " #   Column     Non-Null Count  Dtype \n",
      "---  ------     --------------  ----- \n",
      " 0   content    50000 non-null  string\n",
      " 1   label      50000 non-null  string\n",
      " 2   sentiment  50000 non-null  string\n",
      "dtypes: string(3)\n",
      "memory usage: 1.1 MB\n"
     ]
    }
   ],
   "source": [
    "data_csv.info()"
   ]
  },
  {
   "cell_type": "code",
   "execution_count": 50,
   "metadata": {},
   "outputs": [
    {
     "data": {
      "text/html": [
       "<div>\n",
       "<style scoped>\n",
       "    .dataframe tbody tr th:only-of-type {\n",
       "        vertical-align: middle;\n",
       "    }\n",
       "\n",
       "    .dataframe tbody tr th {\n",
       "        vertical-align: top;\n",
       "    }\n",
       "\n",
       "    .dataframe thead th {\n",
       "        text-align: right;\n",
       "    }\n",
       "</style>\n",
       "<table border=\"1\" class=\"dataframe\">\n",
       "  <thead>\n",
       "    <tr style=\"text-align: right;\">\n",
       "      <th></th>\n",
       "      <th>content</th>\n",
       "      <th>label</th>\n",
       "      <th>sentiment</th>\n",
       "    </tr>\n",
       "  </thead>\n",
       "  <tbody>\n",
       "    <tr>\n",
       "      <th>0</th>\n",
       "      <td>In 1974, the teenager Martha Moxley (Maggie Gr...</td>\n",
       "      <td>1</td>\n",
       "      <td>0.58509475</td>\n",
       "    </tr>\n",
       "    <tr>\n",
       "      <th>1</th>\n",
       "      <td>OK... so... I really like Kris Kristofferson a...</td>\n",
       "      <td>0</td>\n",
       "      <td>0.0002168606</td>\n",
       "    </tr>\n",
       "    <tr>\n",
       "      <th>2</th>\n",
       "      <td>***SPOILER*** Do not read this, if you think a...</td>\n",
       "      <td>0</td>\n",
       "      <td>0.004267837</td>\n",
       "    </tr>\n",
       "    <tr>\n",
       "      <th>3</th>\n",
       "      <td>hi for all the people who have seen this wonde...</td>\n",
       "      <td>1</td>\n",
       "      <td>0.9296293</td>\n",
       "    </tr>\n",
       "    <tr>\n",
       "      <th>4</th>\n",
       "      <td>I recently bought the DVD, forgetting just how...</td>\n",
       "      <td>0</td>\n",
       "      <td>0.5597525</td>\n",
       "    </tr>\n",
       "  </tbody>\n",
       "</table>\n",
       "</div>"
      ],
      "text/plain": [
       "                                             content label     sentiment\n",
       "0  In 1974, the teenager Martha Moxley (Maggie Gr...     1    0.58509475\n",
       "1  OK... so... I really like Kris Kristofferson a...     0  0.0002168606\n",
       "2  ***SPOILER*** Do not read this, if you think a...     0   0.004267837\n",
       "3  hi for all the people who have seen this wonde...     1     0.9296293\n",
       "4  I recently bought the DVD, forgetting just how...     0     0.5597525"
      ]
     },
     "execution_count": 50,
     "metadata": {},
     "output_type": "execute_result"
    }
   ],
   "source": [
    "data_csv.head()"
   ]
  },
  {
   "cell_type": "code",
   "execution_count": 51,
   "metadata": {},
   "outputs": [],
   "source": [
    "#Create PySpark SparkSession\n",
    "spark = SparkSession.builder \\\n",
    "    .master(\"local[1]\") \\\n",
    "    .appName(\"SparkByExamples.com\") \\\n",
    "    .getOrCreate()\n",
    "#Create PySpark DataFrame from Pandas\n",
    "sparkDF=spark.createDataFrame(data_csv) "
   ]
  },
  {
   "cell_type": "code",
   "execution_count": 52,
   "metadata": {},
   "outputs": [
    {
     "name": "stdout",
     "output_type": "stream",
     "text": [
      "root\n",
      " |-- content: string (nullable = true)\n",
      " |-- label: string (nullable = true)\n",
      " |-- sentiment: string (nullable = true)\n",
      "\n"
     ]
    }
   ],
   "source": [
    "sparkDF.printSchema() \n",
    "\n",
    "#Here is our database Schema. We use pyspark instead of DataFrame because DataFrame has not printSchema attribute "
   ]
  },
  {
   "cell_type": "markdown",
   "metadata": {},
   "source": [
    "# THIRD QUESTION\n",
    "*2- Design a tokenizer for content column and remove stop words, and give descriptive information about obtained content column\n",
    "_______"
   ]
  },
  {
   "cell_type": "code",
   "execution_count": 3,
   "metadata": {},
   "outputs": [],
   "source": [
    "# SECOND QUESTIONS STARTS HERE..."
   ]
  },
  {
   "cell_type": "code",
   "execution_count": 53,
   "metadata": {},
   "outputs": [
    {
     "name": "stderr",
     "output_type": "stream",
     "text": [
      "[nltk_data] Downloading package stopwords to\n",
      "[nltk_data]     C:\\Users\\Aytek\\AppData\\Roaming\\nltk_data...\n",
      "[nltk_data]   Package stopwords is already up-to-date!\n"
     ]
    }
   ],
   "source": [
    "# remove stop words, we need to ntlk lib and stopwords. (Natural Language Toolkit)\n",
    "import nltk\n",
    "from nltk.corpus import stopwords\n",
    "nltk.download('stopwords')\n",
    "stop = stopwords.words('english')"
   ]
  },
  {
   "cell_type": "code",
   "execution_count": 54,
   "metadata": {},
   "outputs": [],
   "source": [
    "aclImdb_question3_part2 = pd.read_csv('aclImdb_question3.csv')"
   ]
  },
  {
   "cell_type": "code",
   "execution_count": 55,
   "metadata": {},
   "outputs": [
    {
     "name": "stdout",
     "output_type": "stream",
     "text": [
      "<class 'pandas.core.frame.DataFrame'>\n",
      "RangeIndex: 50000 entries, 0 to 49999\n",
      "Data columns (total 2 columns):\n",
      " #   Column   Non-Null Count  Dtype \n",
      "---  ------   --------------  ----- \n",
      " 0   content  50000 non-null  object\n",
      " 1   label    50000 non-null  int64 \n",
      "dtypes: int64(1), object(1)\n",
      "memory usage: 781.4+ KB\n"
     ]
    }
   ],
   "source": [
    "aclImdb_question3_part2.info()"
   ]
  },
  {
   "cell_type": "code",
   "execution_count": 56,
   "metadata": {},
   "outputs": [
    {
     "data": {
      "text/html": [
       "<div>\n",
       "<style scoped>\n",
       "    .dataframe tbody tr th:only-of-type {\n",
       "        vertical-align: middle;\n",
       "    }\n",
       "\n",
       "    .dataframe tbody tr th {\n",
       "        vertical-align: top;\n",
       "    }\n",
       "\n",
       "    .dataframe thead th {\n",
       "        text-align: right;\n",
       "    }\n",
       "</style>\n",
       "<table border=\"1\" class=\"dataframe\">\n",
       "  <thead>\n",
       "    <tr style=\"text-align: right;\">\n",
       "      <th></th>\n",
       "      <th>content</th>\n",
       "      <th>label</th>\n",
       "    </tr>\n",
       "  </thead>\n",
       "  <tbody>\n",
       "    <tr>\n",
       "      <th>0</th>\n",
       "      <td>In 1974, the teenager Martha Moxley (Maggie Gr...</td>\n",
       "      <td>1</td>\n",
       "    </tr>\n",
       "    <tr>\n",
       "      <th>1</th>\n",
       "      <td>OK... so... I really like Kris Kristofferson a...</td>\n",
       "      <td>0</td>\n",
       "    </tr>\n",
       "    <tr>\n",
       "      <th>2</th>\n",
       "      <td>***SPOILER*** Do not read this, if you think a...</td>\n",
       "      <td>0</td>\n",
       "    </tr>\n",
       "    <tr>\n",
       "      <th>3</th>\n",
       "      <td>hi for all the people who have seen this wonde...</td>\n",
       "      <td>1</td>\n",
       "    </tr>\n",
       "    <tr>\n",
       "      <th>4</th>\n",
       "      <td>I recently bought the DVD, forgetting just how...</td>\n",
       "      <td>0</td>\n",
       "    </tr>\n",
       "  </tbody>\n",
       "</table>\n",
       "</div>"
      ],
      "text/plain": [
       "                                             content  label\n",
       "0  In 1974, the teenager Martha Moxley (Maggie Gr...      1\n",
       "1  OK... so... I really like Kris Kristofferson a...      0\n",
       "2  ***SPOILER*** Do not read this, if you think a...      0\n",
       "3  hi for all the people who have seen this wonde...      1\n",
       "4  I recently bought the DVD, forgetting just how...      0"
      ]
     },
     "execution_count": 56,
     "metadata": {},
     "output_type": "execute_result"
    }
   ],
   "source": [
    "aclImdb_question3_part2.head()"
   ]
  },
  {
   "cell_type": "code",
   "execution_count": 58,
   "metadata": {},
   "outputs": [],
   "source": [
    "# remove the stop words form content column and append our table\n",
    "\n",
    "aclImdb_question3_part2['without_stopwords'] = aclImdb_question3_part2['content'].apply(lambda x: ' '.join([word for word in x.split() if word not in (stop)]))"
   ]
  },
  {
   "cell_type": "code",
   "execution_count": 59,
   "metadata": {},
   "outputs": [
    {
     "name": "stdout",
     "output_type": "stream",
     "text": [
      "<class 'pandas.core.frame.DataFrame'>\n",
      "RangeIndex: 50000 entries, 0 to 49999\n",
      "Data columns (total 3 columns):\n",
      " #   Column             Non-Null Count  Dtype \n",
      "---  ------             --------------  ----- \n",
      " 0   content            50000 non-null  object\n",
      " 1   label              50000 non-null  int64 \n",
      " 2   without_stopwords  50000 non-null  object\n",
      "dtypes: int64(1), object(2)\n",
      "memory usage: 1.1+ MB\n"
     ]
    }
   ],
   "source": [
    "aclImdb_question3_part2.info()"
   ]
  },
  {
   "cell_type": "code",
   "execution_count": 60,
   "metadata": {},
   "outputs": [
    {
     "data": {
      "text/html": [
       "<div>\n",
       "<style scoped>\n",
       "    .dataframe tbody tr th:only-of-type {\n",
       "        vertical-align: middle;\n",
       "    }\n",
       "\n",
       "    .dataframe tbody tr th {\n",
       "        vertical-align: top;\n",
       "    }\n",
       "\n",
       "    .dataframe thead th {\n",
       "        text-align: right;\n",
       "    }\n",
       "</style>\n",
       "<table border=\"1\" class=\"dataframe\">\n",
       "  <thead>\n",
       "    <tr style=\"text-align: right;\">\n",
       "      <th></th>\n",
       "      <th>content</th>\n",
       "      <th>label</th>\n",
       "      <th>without_stopwords</th>\n",
       "    </tr>\n",
       "  </thead>\n",
       "  <tbody>\n",
       "    <tr>\n",
       "      <th>0</th>\n",
       "      <td>In 1974, the teenager Martha Moxley (Maggie Gr...</td>\n",
       "      <td>1</td>\n",
       "      <td>In 1974, teenager Martha Moxley (Maggie Grace)...</td>\n",
       "    </tr>\n",
       "    <tr>\n",
       "      <th>1</th>\n",
       "      <td>OK... so... I really like Kris Kristofferson a...</td>\n",
       "      <td>0</td>\n",
       "      <td>OK... so... I really like Kris Kristofferson u...</td>\n",
       "    </tr>\n",
       "    <tr>\n",
       "      <th>2</th>\n",
       "      <td>***SPOILER*** Do not read this, if you think a...</td>\n",
       "      <td>0</td>\n",
       "      <td>***SPOILER*** Do read this, think watching mov...</td>\n",
       "    </tr>\n",
       "    <tr>\n",
       "      <th>3</th>\n",
       "      <td>hi for all the people who have seen this wonde...</td>\n",
       "      <td>1</td>\n",
       "      <td>hi people seen wonderful movie im sure thet wo...</td>\n",
       "    </tr>\n",
       "    <tr>\n",
       "      <th>4</th>\n",
       "      <td>I recently bought the DVD, forgetting just how...</td>\n",
       "      <td>0</td>\n",
       "      <td>I recently bought DVD, forgetting much I hated...</td>\n",
       "    </tr>\n",
       "  </tbody>\n",
       "</table>\n",
       "</div>"
      ],
      "text/plain": [
       "                                             content  label  \\\n",
       "0  In 1974, the teenager Martha Moxley (Maggie Gr...      1   \n",
       "1  OK... so... I really like Kris Kristofferson a...      0   \n",
       "2  ***SPOILER*** Do not read this, if you think a...      0   \n",
       "3  hi for all the people who have seen this wonde...      1   \n",
       "4  I recently bought the DVD, forgetting just how...      0   \n",
       "\n",
       "                                   without_stopwords  \n",
       "0  In 1974, teenager Martha Moxley (Maggie Grace)...  \n",
       "1  OK... so... I really like Kris Kristofferson u...  \n",
       "2  ***SPOILER*** Do read this, think watching mov...  \n",
       "3  hi people seen wonderful movie im sure thet wo...  \n",
       "4  I recently bought DVD, forgetting much I hated...  "
      ]
     },
     "execution_count": 60,
     "metadata": {},
     "output_type": "execute_result"
    }
   ],
   "source": [
    "aclImdb_question3_part2.head() #new table and we design a tokenizer for content column (without_stopwords)"
   ]
  },
  {
   "cell_type": "code",
   "execution_count": 61,
   "metadata": {},
   "outputs": [],
   "source": [
    "# to give descriptive information about obtained content column ((without_stopwords)),\n",
    "# we design a model for without_stopwords."
   ]
  },
  {
   "cell_type": "code",
   "execution_count": 62,
   "metadata": {},
   "outputs": [],
   "source": [
    "# for fairly comparison, first model's input is content and second model's input is obtained content\n",
    "# At the end, we compare these model.\n",
    "\n",
    "# Firstly, our first model is content column.\n",
    "\n",
    "# Here is libraries.\n",
    "\n",
    "from nltk.tokenize import word_tokenize\n",
    "from keras.preprocessing.text import Tokenizer\n",
    "from keras.preprocessing.sequence import pad_sequences\n",
    "from keras.models import Sequential\n",
    "from keras.layers import Embedding, LSTM, Dense, Dropout\n",
    "from sklearn.preprocessing import LabelEncoder\n",
    "from sklearn.model_selection import train_test_split"
   ]
  },
  {
   "cell_type": "markdown",
   "metadata": {},
   "source": [
    "# WE DESIGN A MODEL FOR 'content' COLUMN"
   ]
  },
  {
   "cell_type": "code",
   "execution_count": 63,
   "metadata": {},
   "outputs": [],
   "source": [
    "# we desing a model for content model.\n",
    "\n",
    "corpus=[]\n",
    "for text in aclImdb_question3_part2['content']:\n",
    "  words= [word.lower() for word in word_tokenize(text)]\n",
    "  corpus.append(words)\n",
    "\n",
    "from sklearn.model_selection import train_test_split\n",
    "X = aclImdb_question3_part2['content']\n",
    "y = aclImdb_question3_part2['label']\n",
    "\n",
    "\n",
    "X_train, X_test, y_train, y_test= train_test_split(X,y, test_size=0.2, random_state=42)\n",
    "\n",
    "tokenizer= Tokenizer(len(corpus))\n",
    "tokenizer.fit_on_texts(X_train)\n",
    "\n",
    "X_train= tokenizer.texts_to_sequences(X_train)\n",
    "X_train= pad_sequences(X_train, maxlen=128, truncating='post', padding= 'post')\n",
    "\n",
    "X_test= tokenizer.texts_to_sequences(X_test)\n",
    "X_test= pad_sequences(X_test, maxlen=128, truncating='post', padding= 'post')\n",
    "\n",
    "\n",
    "le= LabelEncoder()\n",
    "y_train= le.fit_transform(y_train)\n",
    "y_test= le.fit_transform(y_test)\n",
    "#We use LSTM model\n",
    "model= Sequential()\n",
    "model.add(Embedding(input_dim=len(corpus), output_dim=100,\n",
    "                     input_length=128, trainable=True))\n",
    "model.add(LSTM(100, dropout=0.1, return_sequences=True))\n",
    "model.add(LSTM(100, dropout=0.1))\n",
    "model.add(Dense(1, activation='sigmoid'))\n",
    "\n",
    "model.compile(loss= 'binary_crossentropy', optimizer='adam',metrics= ['accuracy'])"
   ]
  },
  {
   "cell_type": "code",
   "execution_count": 64,
   "metadata": {},
   "outputs": [
    {
     "name": "stdout",
     "output_type": "stream",
     "text": [
      "Model: \"sequential_2\"\n",
      "_________________________________________________________________\n",
      " Layer (type)                Output Shape              Param #   \n",
      "=================================================================\n",
      " embedding_1 (Embedding)     (None, 128, 100)          5000000   \n",
      "                                                                 \n",
      " lstm (LSTM)                 (None, 128, 100)          80400     \n",
      "                                                                 \n",
      " lstm_1 (LSTM)               (None, 100)               80400     \n",
      "                                                                 \n",
      " dense_1 (Dense)             (None, 1)                 101       \n",
      "                                                                 \n",
      "=================================================================\n",
      "Total params: 5,160,901\n",
      "Trainable params: 5,160,901\n",
      "Non-trainable params: 0\n",
      "_________________________________________________________________\n"
     ]
    }
   ],
   "source": [
    "model.summary()"
   ]
  },
  {
   "cell_type": "code",
   "execution_count": 65,
   "metadata": {},
   "outputs": [
    {
     "name": "stdout",
     "output_type": "stream",
     "text": [
      "Epoch 1/10\n",
      "625/625 [==============================] - 34s 41ms/step - loss: 0.6186 - accuracy: 0.6416 - val_loss: 0.6791 - val_accuracy: 0.5262\n",
      "Epoch 2/10\n",
      "625/625 [==============================] - 24s 39ms/step - loss: 0.5729 - accuracy: 0.7043 - val_loss: 0.4405 - val_accuracy: 0.8168\n",
      "Epoch 3/10\n",
      "625/625 [==============================] - 24s 39ms/step - loss: 0.3160 - accuracy: 0.8737 - val_loss: 0.3933 - val_accuracy: 0.8475\n",
      "Epoch 4/10\n",
      "625/625 [==============================] - 24s 39ms/step - loss: 0.2921 - accuracy: 0.8812 - val_loss: 0.6457 - val_accuracy: 0.6523\n",
      "Epoch 5/10\n",
      "625/625 [==============================] - 24s 39ms/step - loss: 0.4381 - accuracy: 0.7936 - val_loss: 0.4014 - val_accuracy: 0.8387\n",
      "Epoch 6/10\n",
      "625/625 [==============================] - 24s 39ms/step - loss: 0.1683 - accuracy: 0.9410 - val_loss: 0.3954 - val_accuracy: 0.8332\n",
      "Epoch 7/10\n",
      "625/625 [==============================] - 25s 39ms/step - loss: 0.1504 - accuracy: 0.9473 - val_loss: 0.5121 - val_accuracy: 0.8366\n",
      "Epoch 8/10\n",
      "625/625 [==============================] - 25s 39ms/step - loss: 0.0973 - accuracy: 0.9693 - val_loss: 0.5396 - val_accuracy: 0.8362\n",
      "Epoch 9/10\n",
      "625/625 [==============================] - 24s 39ms/step - loss: 0.0671 - accuracy: 0.9800 - val_loss: 0.5633 - val_accuracy: 0.8359\n",
      "Epoch 10/10\n",
      "625/625 [==============================] - 25s 39ms/step - loss: 0.0535 - accuracy: 0.9849 - val_loss: 0.7208 - val_accuracy: 0.8292\n"
     ]
    }
   ],
   "source": [
    "final_model= model.fit(X_train, y_train, epochs=10, batch_size= 64, validation_data=(X_test, y_test))"
   ]
  },
  {
   "cell_type": "code",
   "execution_count": 66,
   "metadata": {},
   "outputs": [
    {
     "name": "stdout",
     "output_type": "stream",
     "text": [
      "313/313 [==============================] - 4s 11ms/step - loss: 0.7208 - accuracy: 0.8292\n"
     ]
    },
    {
     "data": {
      "text/plain": [
       "[0.7207863330841064, 0.829200029373169]"
      ]
     },
     "execution_count": 66,
     "metadata": {},
     "output_type": "execute_result"
    }
   ],
   "source": [
    "model.evaluate(X_test, y_test)"
   ]
  },
  {
   "cell_type": "code",
   "execution_count": 88,
   "metadata": {},
   "outputs": [
    {
     "data": {
      "text/plain": [
       "dict_keys(['loss', 'accuracy', 'val_loss', 'val_accuracy'])"
      ]
     },
     "execution_count": 88,
     "metadata": {},
     "output_type": "execute_result"
    }
   ],
   "source": [
    "history_dict = final_model.history\n",
    "history_dict.keys()"
   ]
  },
  {
   "cell_type": "code",
   "execution_count": 89,
   "metadata": {},
   "outputs": [],
   "source": [
    "acc2 = history_dict['accuracy']\n",
    "val_acc2 = history_dict['val_accuracy']\n",
    "loss2 = history_dict['loss']\n",
    "val_loss2 = history_dict['val_loss']"
   ]
  },
  {
   "cell_type": "markdown",
   "metadata": {},
   "source": [
    "# PLOT THE RESULTS of MODEL CONTENT"
   ]
  },
  {
   "cell_type": "code",
   "execution_count": 107,
   "metadata": {},
   "outputs": [
    {
     "data": {
      "image/png": "[encoded data removed]",
      "text/plain": [
       "<Figure size 432x288 with 1 Axes>"
      ]
     },
     "metadata": {
      "needs_background": "light"
     },
     "output_type": "display_data"
    }
   ],
   "source": [
    "epochs = range(1, len(acc2) + 1)\n",
    "# \"bo\" mavi noktalar için\n",
    "plt.plot(epochs, loss2, 'b', label='Training loss')\n",
    "# b düz çizgi için\n",
    "plt.plot(epochs, val_loss2, 'r', label='Validation loss')\n",
    "plt.title('Training and validation loss of Content')\n",
    "plt.xlabel('Epochs')\n",
    "plt.ylabel('Loss')\n",
    "plt.legend()\n",
    "plt.show()"
   ]
  },
  {
   "cell_type": "code",
   "execution_count": 108,
   "metadata": {},
   "outputs": [
    {
     "data": {
      "image/png": "[encoded data removed]",
      "text/plain": [
       "<Figure size 432x288 with 1 Axes>"
      ]
     },
     "metadata": {
      "needs_background": "light"
     },
     "output_type": "display_data"
    }
   ],
   "source": [
    "plt.plot(epochs, acc2, 'b', label='Training acc')\n",
    "plt.plot(epochs, val_acc2, 'r', label='Validation acc')\n",
    "plt.title('Training and validation accuracy of Content')\n",
    "plt.xlabel('Epochs')\n",
    "plt.ylabel('Accuracy')\n",
    "plt.legend(loc='lower right')\n",
    "\n",
    "plt.show()"
   ]
  },
  {
   "cell_type": "markdown",
   "metadata": {},
   "source": [
    "# WE DESIGN A MODEL FOR 'without_stopwords' COLUMN"
   ]
  },
  {
   "cell_type": "code",
   "execution_count": 111,
   "metadata": {},
   "outputs": [],
   "source": [
    "# we desing a model for without_stopwords model.\n",
    "\n",
    "corpus1=[]\n",
    "for text in aclImdb_question3_part2['without_stopwords']:\n",
    "  words= [word.lower() for word in word_tokenize(text)]\n",
    "  corpus1.append(words)\n",
    "\n",
    "from sklearn.model_selection import train_test_split\n",
    "X1 = aclImdb_question3_part2['without_stopwords']\n",
    "y1 = aclImdb_question3_part2['label']\n",
    "\n",
    "\n",
    "X_train1, X_test1, y_train1, y_test1= train_test_split(X1,y1, test_size=0.2, random_state=42)\n",
    "\n",
    "tokenizer1 = Tokenizer(len(corpus1))\n",
    "tokenizer1.fit_on_texts(X_train1)\n",
    "\n",
    "X_train1 = tokenizer1.texts_to_sequences(X_train1)\n",
    "X_train1 = pad_sequences(X_train1, maxlen=128, truncating='post', padding= 'post')\n",
    "\n",
    "X_test1 = tokenizer.texts_to_sequences(X_test1)\n",
    "X_test1 = pad_sequences(X_test1, maxlen=128, truncating='post', padding= 'post')\n",
    "\n",
    "\n",
    "le1 = LabelEncoder()\n",
    "y_train1= le1.fit_transform(y_train1)\n",
    "y_test1= le1.fit_transform(y_test1)\n",
    "#We use LSTM model\n",
    "model2 = Sequential()\n",
    "model2.add(Embedding(input_dim=len(corpus1), output_dim=100,\n",
    "                     input_length=128, trainable=True))\n",
    "model2.add(LSTM(100, dropout=0.1, return_sequences=True))\n",
    "model2.add(LSTM(100, dropout=0.1))\n",
    "model2.add(Dense(1, activation='sigmoid'))\n",
    "\n",
    "model2.compile(loss= 'binary_crossentropy', optimizer='adam',metrics= ['accuracy'])"
   ]
  },
  {
   "cell_type": "code",
   "execution_count": 112,
   "metadata": {},
   "outputs": [
    {
     "name": "stdout",
     "output_type": "stream",
     "text": [
      "Model: \"sequential_3\"\n",
      "_________________________________________________________________\n",
      " Layer (type)                Output Shape              Param #   \n",
      "=================================================================\n",
      " embedding_2 (Embedding)     (None, 128, 100)          5000000   \n",
      "                                                                 \n",
      " lstm_2 (LSTM)               (None, 128, 100)          80400     \n",
      "                                                                 \n",
      " lstm_3 (LSTM)               (None, 100)               80400     \n",
      "                                                                 \n",
      " dense_2 (Dense)             (None, 1)                 101       \n",
      "                                                                 \n",
      "=================================================================\n",
      "Total params: 5,160,901\n",
      "Trainable params: 5,160,901\n",
      "Non-trainable params: 0\n",
      "_________________________________________________________________\n"
     ]
    }
   ],
   "source": [
    "model2.summary()"
   ]
  },
  {
   "cell_type": "code",
   "execution_count": 113,
   "metadata": {},
   "outputs": [
    {
     "name": "stdout",
     "output_type": "stream",
     "text": [
      "Epoch 1/10\n",
      "625/625 [==============================] - 28s 41ms/step - loss: 0.5682 - accuracy: 0.7030 - val_loss: 0.8838 - val_accuracy: 0.5054\n",
      "Epoch 2/10\n",
      "625/625 [==============================] - 25s 39ms/step - loss: 0.5899 - accuracy: 0.6874 - val_loss: 0.7447 - val_accuracy: 0.5021\n",
      "Epoch 3/10\n",
      "625/625 [==============================] - 25s 39ms/step - loss: 0.6397 - accuracy: 0.6376 - val_loss: 0.8124 - val_accuracy: 0.4953\n",
      "Epoch 4/10\n",
      "625/625 [==============================] - 25s 39ms/step - loss: 0.4204 - accuracy: 0.8084 - val_loss: 1.1911 - val_accuracy: 0.4655\n",
      "Epoch 5/10\n",
      "625/625 [==============================] - 24s 39ms/step - loss: 0.1918 - accuracy: 0.9303 - val_loss: 1.4767 - val_accuracy: 0.4760\n",
      "Epoch 6/10\n",
      "625/625 [==============================] - 24s 39ms/step - loss: 0.0994 - accuracy: 0.9685 - val_loss: 1.7137 - val_accuracy: 0.4721\n",
      "Epoch 7/10\n",
      "625/625 [==============================] - 25s 39ms/step - loss: 0.0521 - accuracy: 0.9863 - val_loss: 2.0139 - val_accuracy: 0.4742\n",
      "Epoch 8/10\n",
      "625/625 [==============================] - 24s 39ms/step - loss: 0.0361 - accuracy: 0.9912 - val_loss: 2.1427 - val_accuracy: 0.4789\n",
      "Epoch 9/10\n",
      "625/625 [==============================] - 24s 39ms/step - loss: 0.0264 - accuracy: 0.9938 - val_loss: 2.5267 - val_accuracy: 0.4719\n",
      "Epoch 10/10\n",
      "625/625 [==============================] - 25s 39ms/step - loss: 0.0190 - accuracy: 0.9954 - val_loss: 2.4694 - val_accuracy: 0.4742\n"
     ]
    }
   ],
   "source": [
    "final_model2= model2.fit(X_train1, y_train1, epochs=10, batch_size= 64, validation_data=(X_test1, y_test1))"
   ]
  },
  {
   "cell_type": "code",
   "execution_count": 114,
   "metadata": {},
   "outputs": [
    {
     "name": "stdout",
     "output_type": "stream",
     "text": [
      "313/313 [==============================] - 3s 9ms/step - loss: 2.4694 - accuracy: 0.4742\n"
     ]
    },
    {
     "data": {
      "text/plain": [
       "[2.469374418258667, 0.4742000102996826]"
      ]
     },
     "execution_count": 114,
     "metadata": {},
     "output_type": "execute_result"
    }
   ],
   "source": [
    "model2.evaluate(X_test1, y_test1)"
   ]
  },
  {
   "cell_type": "code",
   "execution_count": 115,
   "metadata": {},
   "outputs": [
    {
     "data": {
      "text/plain": [
       "dict_keys(['loss', 'accuracy', 'val_loss', 'val_accuracy'])"
      ]
     },
     "execution_count": 115,
     "metadata": {},
     "output_type": "execute_result"
    }
   ],
   "source": [
    "history_dict2 = final_model2.history\n",
    "history_dict2.keys()"
   ]
  },
  {
   "cell_type": "code",
   "execution_count": 118,
   "metadata": {},
   "outputs": [],
   "source": [
    "acc3 = history_dict2['accuracy']\n",
    "val_acc3 = history_dict2['val_accuracy']\n",
    "loss3 = history_dict2['loss']\n",
    "val_loss3 = history_dict2['val_loss']"
   ]
  },
  {
   "cell_type": "markdown",
   "metadata": {},
   "source": [
    "# PLOT THE RESULTS of MODEL without_stopwords"
   ]
  },
  {
   "cell_type": "code",
   "execution_count": 119,
   "metadata": {},
   "outputs": [
    {
     "data": {
      "image/png": "[encoded data removed]",
      "text/plain": [
       "<Figure size 432x288 with 1 Axes>"
      ]
     },
     "metadata": {
      "needs_background": "light"
     },
     "output_type": "display_data"
    }
   ],
   "source": [
    "epochs = range(1, len(acc3) + 1)\n",
    "\n",
    "plt.plot(epochs, loss3, 'b', label='Training loss')\n",
    "\n",
    "plt.plot(epochs, val_loss3, 'r', label='Validation loss')\n",
    "plt.title('Training and validation loss of without_stopwords ')\n",
    "plt.xlabel('Epochs')\n",
    "plt.ylabel('Loss')\n",
    "plt.legend()\n",
    "plt.show()"
   ]
  },
  {
   "cell_type": "code",
   "execution_count": 120,
   "metadata": {},
   "outputs": [
    {
     "data": {
      "image/png": "[encoded data removed]",
      "text/plain": [
       "<Figure size 432x288 with 1 Axes>"
      ]
     },
     "metadata": {
      "needs_background": "light"
     },
     "output_type": "display_data"
    }
   ],
   "source": [
    "plt.plot(epochs, acc3, 'b', label='Training acc')\n",
    "plt.plot(epochs, val_acc3, 'r', label='Validation acc')\n",
    "plt.title('Training and validation accuracy of without_stopwords')\n",
    "plt.xlabel('Epochs')\n",
    "plt.ylabel('Accuracy')\n",
    "plt.legend(loc='lower right')\n",
    "\n",
    "plt.show()"
   ]
  },
  {
   "cell_type": "code",
   "execution_count": 121,
   "metadata": {},
   "outputs": [],
   "source": [
    "# FINISH TASK."
   ]
  },
  {
   "cell_type": "markdown",
   "metadata": {},
   "source": [
    "# COMPARISION THE 'CONTENT' and 'without_stopwords' model"
   ]
  },
  {
   "cell_type": "code",
   "execution_count": 122,
   "metadata": {},
   "outputs": [],
   "source": [
    "# give descriptive information about obtained content column\n",
    "\n",
    "# When we examine this loss and accuracy graphes of two model, all validation loss are increasing both models.\n",
    "\n",
    "# That means, these models have overfitting problem. In order to overcome this problem\n",
    "# we have to change the model, stop the training process early.\n",
    "\n",
    "# When we examine the accuracy values, training acc values are increasing but validation acc values are not like training acc.\n",
    "# That means our model memorize this data. \n",
    "\n",
    "# Also without_stopwords acc value are greater than normal model because in without_stopwords set, we do not have stop words.\n",
    "\n",
    "\n",
    "# for 'without_stopwords' model\n",
    "\n",
    "# We better accuracy, loss for training but validation result is not appropriate. This problem is called overfitting.\n",
    "# We change the model or stop the early training or we change the data for training set."
   ]
  },
  {
   "cell_type": "code",
   "execution_count": null,
   "metadata": {},
   "outputs": [],
   "source": []
  }
 ],
 "metadata": {
  "kernelspec": {
   "display_name": "Python 3 (ipykernel)",
   "language": "python",
   "name": "python3"
  },
  "language_info": {
   "codemirror_mode": {
    "name": "ipython",
    "version": 3
   },
   "file_extension": ".py",
   "mimetype": "text/x-python",
   "name": "python",
   "nbconvert_exporter": "python",
   "pygments_lexer": "ipython3",
   "version": "3.9.7"
  }
 },
 "nbformat": 4,
 "nbformat_minor": 2
}
